{
 "cells": [
  {
   "cell_type": "code",
   "execution_count": 13,
   "id": "a9921ce7",
   "metadata": {},
   "outputs": [
    {
     "name": "stdout",
     "output_type": "stream",
     "text": [
      "Breaking Bad\n",
      "Breaking+Bad\n",
      "None\n"
     ]
    }
   ],
   "source": [
    "import urllib.request\n",
    "import requests\n",
    "s=input()\n",
    "s=print(s.replace(\" \",\"+\"))\n",
    "z=str(s)\n",
    "print(z)"
   ]
  },
  {
   "cell_type": "code",
   "execution_count": 14,
   "id": "ee6a3f61",
   "metadata": {},
   "outputs": [
    {
     "name": "stdout",
     "output_type": "stream",
     "text": [
      "{'page': 1, 'results': [{'backdrop_path': '/yYnxld9hgTLCOFORequmOK6paj2.jpg', 'first_air_date': '2015-11-06', 'genre_ids': [35, 18], 'id': 64254, 'name': 'Master of None', 'origin_country': ['US'], 'original_language': 'en', 'original_name': 'Master of None', 'overview': '30-year-old New York actor Dev takes on such pillars of maturity as the first big job, a serious relationship, and busting sex offenders on the subway.', 'popularity': 17.358, 'poster_path': '/nLGBrpSSLogxEP7RmKvBbxPTmqJ.jpg', 'vote_average': 7.7, 'vote_count': 289}, {'backdrop_path': '/ddOfI13VeYylcyHDmWeSy8pGmvk.jpg', 'first_air_date': '2015-12-26', 'genre_ids': [18, 9648], 'id': 64684, 'name': 'And Then There Were None', 'origin_country': ['GB'], 'original_language': 'en', 'original_name': 'And Then There Were None', 'overview': \"Ten strangers, drawn away from their normal lives to an isolated rock off the Devon coast. But as the mismatched group waits for the arrival of the hosts -- the improbably named Mr. and Mrs. U.N. Owen -- the weather sours and they find themselves cut off from civilization. Very soon, the guests, each struggling with their conscience, will start to die -- one by one, according to the rules of the nursery rhyme 'Ten Little Soldier Boys' -- a rhyme that hangs in every room of the house and ends with the most terrifying words of all: '... and then there were none.\", 'popularity': 12.438, 'poster_path': '/xbcGTnlxszacXztaOdY2hu5TI7K.jpg', 'vote_average': 7.6, 'vote_count': 372}, {'backdrop_path': '/csRfqi0ejroNo5p8JRe0wixSV82.jpg', 'first_air_date': '2013-06-10', 'genre_ids': [10764], 'id': 64850, 'name': 'None of the Above', 'origin_country': [], 'original_language': 'en', 'original_name': 'None of the Above', 'overview': 'The British Tim Shaw conducts remarkable experiments and lets the people on the streets and at home predict the outcomes.', 'popularity': 0.6, 'poster_path': '/1CtR6ew9fWrJ1Hi0Skbua6gbHqY.jpg', 'vote_average': 7, 'vote_count': 2}, {'backdrop_path': None, 'first_air_date': '2012-10-12', 'genre_ids': [], 'id': 55521, 'name': 'None of the Above: The Rise of the Religiously Unaffiliated', 'origin_country': [], 'original_language': 'en', 'original_name': 'None of the Above: The Rise of the Religiously Unaffiliated', 'overview': '', 'popularity': 0.6, 'poster_path': None, 'vote_average': 0, 'vote_count': 0}, {'backdrop_path': '/3M4gLp4rguoai4nOYid5bfC5HyW.jpg', 'first_air_date': '2017-03-25', 'genre_ids': [80, 9648], 'id': 73841, 'name': 'And Then There Were None', 'origin_country': ['JP'], 'original_language': 'ja', 'original_name': 'そして誰もいなくなった', 'overview': '10 men and women are called to Natural Island Hotel on the isolated island Heitaijima off Yachijojima by the owner Nanao Shin. They take the dinner that has been prepared while filled with a mix of expectation and anxiety about what is going to happen and why they have been invited to this island. Then they suddenly start to hear a mysterious voice reveal their past crimes. As the 10 of them go through past incidents in their mind, one of the invited guests is murdered before their eyes. That seems to be the catalyst for the murder of another guest and then yet another. Several days after the invited guests came to Heitaijima, police head over to the island following the report of murders. They discover 10 murdered bodies on this big “locked room”. Who is the murderer and why did these 10 people have to be gathered and killed? ~ Based on the novel \"And Then There Were None\" by Agatha Christie, published in 1943.', 'popularity': 0.994, 'poster_path': '/oDTZ5Xx6zIyAj1KMS73vGWqX9h9.jpg', 'vote_average': 0, 'vote_count': 0}, {'backdrop_path': '/oYhBDIOrnfaJIH061RiiSDO1MJ2.jpg', 'first_air_date': '2016-07-17', 'genre_ids': [80, 18], 'id': 68781, 'name': 'Lost ID', 'origin_country': ['JP'], 'original_language': 'ja', 'original_name': 'そして、誰もいなくなった', 'overview': 'Shinichi Todo is handsome and smart. He is loved by family, friends and his girlfriend. Everything in his life seems to go well, but, one day, someone with the same name is arrested. After that, his smooth life changes. An imposter takes his life.', 'popularity': 2.744, 'poster_path': '/yQGrJTNoUqNoAKnqXTQGJMeTr2P.jpg', 'vote_average': 5, 'vote_count': 1}, {'backdrop_path': '/tRHML16irVmFXqKDoIwP8Sk8rQU.jpg', 'first_air_date': '2020-03-05', 'genre_ids': [18, 10765], 'id': 99896, 'name': 'Noughts + Crosses', 'origin_country': ['GB'], 'original_language': 'en', 'original_name': 'Noughts + Crosses', 'overview': 'In an alternate history where black “Cross” people rule over white “Noughts”, young couple Sephy and Callum are divided by their colour but united by love.', 'popularity': 4.026, 'poster_path': '/xKo7Zog27jcGvPKGkpHkqbLqLR8.jpg', 'vote_average': 6.9, 'vote_count': 13}, {'backdrop_path': '/wVTXBa90GZVqFsqZZZJ4fiGJqRG.jpg', 'first_air_date': '2016-01-07', 'genre_ids': [10765, 16, 18, 10765], 'id': 66120, 'name': 'Norn9', 'origin_country': ['JP'], 'original_language': 'ja', 'original_name': 'NORN9 ノルン+ノネット', 'overview': 'Guided by a strange, haunting song, elementary-schooler Sorata Suzuhara from the Heisei Era is warped back in time to 1919, in a high-tech ship called Norn9. This ship, flying above towns resembling that of the Meiji or Taishō period, harbours The Gifted, a group of three girls and eight boys with special abilities. As he tries to find a way to return to his time, he discovers incredible secrets about the world and spacetime itself.', 'popularity': 7.26, 'poster_path': '/huhcKz75jx5kqs3W5AGQNTfxUd2.jpg', 'vote_average': 5, 'vote_count': 5}], 'total_pages': 1, 'total_results': 8}\n"
     ]
    }
   ],
   "source": [
    "response = requests.get('https://api.themoviedb.org/3/search/tv?api_key=3122717ed8290a2d358df8985cc89216&query={}'.format(z))\n",
    "Data = response.json()\n",
    "print(Data)"
   ]
  },
  {
   "cell_type": "code",
   "execution_count": 20,
   "id": "c4745345",
   "metadata": {},
   "outputs": [
    {
     "ename": "SyntaxError",
     "evalue": "'return' outside function (240827552.py, line 1)",
     "output_type": "error",
     "traceback": [
      "\u001b[0;36m  File \u001b[0;32m\"/tmp/ipykernel_66798/240827552.py\"\u001b[0;36m, line \u001b[0;32m1\u001b[0m\n\u001b[0;31m    return \"http://image.tmdb.org/t/p/w500/\" + Data['poster_path']\u001b[0m\n\u001b[0m    ^\u001b[0m\n\u001b[0;31mSyntaxError\u001b[0m\u001b[0;31m:\u001b[0m 'return' outside function\n"
     ]
    }
   ],
   "source": [
    "return \"http://image.tmdb.org/t/p/w500/\" + Data['poster_path']"
   ]
  },
  {
   "cell_type": "code",
   "execution_count": 8,
   "id": "fdbdf61b",
   "metadata": {},
   "outputs": [
    {
     "name": "stdout",
     "output_type": "stream",
     "text": [
      "result code: 200\n",
      "b'{\"page\":1,\"results\":[{\"backdrop_path\":\"/yYnxld9hgTLCOFORequmOK6paj2.jpg\",\"first_air_date\":\"2015-11-06\",\"genre_ids\":[35,18],\"id\":64254,\"name\":\"Master of None\",\"origin_country\":[\"US\"],\"original_language\":\"en\",\"original_name\":\"Master of None\",\"overview\":\"30-year-old New York actor Dev takes on such pillars of maturity as the first big job, a serious relationship, and busting sex offenders on the subway.\",\"popularity\":17.358,\"poster_path\":\"/nLGBrpSSLogxEP7RmKvBbxPTmqJ.jpg\",\"vote_average\":7.7,\"vote_count\":289},{\"backdrop_path\":\"/ddOfI13VeYylcyHDmWeSy8pGmvk.jpg\",\"first_air_date\":\"2015-12-26\",\"genre_ids\":[18,9648],\"id\":64684,\"name\":\"And Then There Were None\",\"origin_country\":[\"GB\"],\"original_language\":\"en\",\"original_name\":\"And Then There Were None\",\"overview\":\"Ten strangers, drawn away from their normal lives to an isolated rock off the Devon coast. But as the mismatched group waits for the arrival of the hosts -- the improbably named Mr. and Mrs. U.N. Owen -- the weather sours and they find themselves cut off from civilization. Very soon, the guests, each struggling with their conscience, will start to die -- one by one, according to the rules of the nursery rhyme \\'Ten Little Soldier Boys\\' -- a rhyme that hangs in every room of the house and ends with the most terrifying words of all: \\'... and then there were none.\",\"popularity\":12.438,\"poster_path\":\"/xbcGTnlxszacXztaOdY2hu5TI7K.jpg\",\"vote_average\":7.6,\"vote_count\":372},{\"backdrop_path\":\"/csRfqi0ejroNo5p8JRe0wixSV82.jpg\",\"first_air_date\":\"2013-06-10\",\"genre_ids\":[10764],\"id\":64850,\"name\":\"None of the Above\",\"origin_country\":[],\"original_language\":\"en\",\"original_name\":\"None of the Above\",\"overview\":\"The British Tim Shaw conducts remarkable experiments and lets the people on the streets and at home predict the outcomes.\",\"popularity\":0.6,\"poster_path\":\"/1CtR6ew9fWrJ1Hi0Skbua6gbHqY.jpg\",\"vote_average\":7,\"vote_count\":2},{\"backdrop_path\":null,\"first_air_date\":\"2012-10-12\",\"genre_ids\":[],\"id\":55521,\"name\":\"None of the Above: The Rise of the Religiously Unaffiliated\",\"origin_country\":[],\"original_language\":\"en\",\"original_name\":\"None of the Above: The Rise of the Religiously Unaffiliated\",\"overview\":\"\",\"popularity\":0.6,\"poster_path\":null,\"vote_average\":0,\"vote_count\":0},{\"backdrop_path\":\"/3M4gLp4rguoai4nOYid5bfC5HyW.jpg\",\"first_air_date\":\"2017-03-25\",\"genre_ids\":[80,9648],\"id\":73841,\"name\":\"And Then There Were None\",\"origin_country\":[\"JP\"],\"original_language\":\"ja\",\"original_name\":\"\\xe3\\x81\\x9d\\xe3\\x81\\x97\\xe3\\x81\\xa6\\xe8\\xaa\\xb0\\xe3\\x82\\x82\\xe3\\x81\\x84\\xe3\\x81\\xaa\\xe3\\x81\\x8f\\xe3\\x81\\xaa\\xe3\\x81\\xa3\\xe3\\x81\\x9f\",\"overview\":\"10 men and women are called to Natural Island Hotel on the isolated island Heitaijima off Yachijojima by the owner Nanao Shin. They take the dinner that has been prepared while filled with a mix of expectation and anxiety about what is going to happen and why they have been invited to this island. Then they suddenly start to hear a mysterious voice reveal their past crimes. As the 10 of them go through past incidents in their mind, one of the invited guests is murdered before their eyes. That seems to be the catalyst for the murder of another guest and then yet another. Several days after the invited guests came to Heitaijima, police head over to the island following the report of murders. They discover 10 murdered bodies on this big \\xe2\\x80\\x9clocked room\\xe2\\x80\\x9d. Who is the murderer and why did these 10 people have to be gathered and killed? ~ Based on the novel \\\\\"And Then There Were None\\\\\" by Agatha Christie, published in 1943.\",\"popularity\":0.994,\"poster_path\":\"/oDTZ5Xx6zIyAj1KMS73vGWqX9h9.jpg\",\"vote_average\":0,\"vote_count\":0},{\"backdrop_path\":\"/tRHML16irVmFXqKDoIwP8Sk8rQU.jpg\",\"first_air_date\":\"2020-03-05\",\"genre_ids\":[18,10765],\"id\":99896,\"name\":\"Noughts + Crosses\",\"origin_country\":[\"GB\"],\"original_language\":\"en\",\"original_name\":\"Noughts + Crosses\",\"overview\":\"In an alternate history where black \\xe2\\x80\\x9cCross\\xe2\\x80\\x9d people rule over white \\xe2\\x80\\x9cNoughts\\xe2\\x80\\x9d, young couple Sephy and Callum are divided by their colour but united by love.\",\"popularity\":4.026,\"poster_path\":\"/xKo7Zog27jcGvPKGkpHkqbLqLR8.jpg\",\"vote_average\":6.9,\"vote_count\":13},{\"backdrop_path\":\"/oYhBDIOrnfaJIH061RiiSDO1MJ2.jpg\",\"first_air_date\":\"2016-07-17\",\"genre_ids\":[80,18],\"id\":68781,\"name\":\"Lost ID\",\"origin_country\":[\"JP\"],\"original_language\":\"ja\",\"original_name\":\"\\xe3\\x81\\x9d\\xe3\\x81\\x97\\xe3\\x81\\xa6\\xe3\\x80\\x81\\xe8\\xaa\\xb0\\xe3\\x82\\x82\\xe3\\x81\\x84\\xe3\\x81\\xaa\\xe3\\x81\\x8f\\xe3\\x81\\xaa\\xe3\\x81\\xa3\\xe3\\x81\\x9f\",\"overview\":\"Shinichi Todo is handsome and smart. He is loved by family, friends and his girlfriend. Everything in his life seems to go well, but, one day, someone with the same name is arrested. After that, his smooth life changes. An imposter takes his life.\",\"popularity\":2.744,\"poster_path\":\"/yQGrJTNoUqNoAKnqXTQGJMeTr2P.jpg\",\"vote_average\":5,\"vote_count\":1},{\"backdrop_path\":\"/wVTXBa90GZVqFsqZZZJ4fiGJqRG.jpg\",\"first_air_date\":\"2016-01-07\",\"genre_ids\":[10765,16,18,10765],\"id\":66120,\"name\":\"Norn9\",\"origin_country\":[\"JP\"],\"original_language\":\"ja\",\"original_name\":\"NORN9 \\xe3\\x83\\x8e\\xe3\\x83\\xab\\xe3\\x83\\xb3+\\xe3\\x83\\x8e\\xe3\\x83\\x8d\\xe3\\x83\\x83\\xe3\\x83\\x88\",\"overview\":\"Guided by a strange, haunting song, elementary-schooler Sorata Suzuhara from the Heisei Era is warped back in time to 1919, in a high-tech ship called Norn9. This ship, flying above towns resembling that of the Meiji or Taish\\xc5\\x8d period, harbours The Gifted, a group of three girls and eight boys with special abilities. As he tries to find a way to return to his time, he discovers incredible secrets about the world and spacetime itself.\",\"popularity\":7.26,\"poster_path\":\"/huhcKz75jx5kqs3W5AGQNTfxUd2.jpg\",\"vote_average\":5,\"vote_count\":5}],\"total_pages\":1,\"total_results\":8}'\n"
     ]
    }
   ],
   "source": [
    "print(\"result code: \" + str(WebUrl.getcode()))\n",
    "data = WebUrl.read()\n",
    "type(data)\n",
    "print(data)"
   ]
  },
  {
   "cell_type": "code",
   "execution_count": 18,
   "id": "684c0820",
   "metadata": {},
   "outputs": [
    {
     "ename": "KeyError",
     "evalue": "'poster_path'",
     "output_type": "error",
     "traceback": [
      "\u001b[0;31m---------------------------------------------------------------------------\u001b[0m",
      "\u001b[0;31mKeyError\u001b[0m                                  Traceback (most recent call last)",
      "\u001b[0;32m/tmp/ipykernel_66798/4265485629.py\u001b[0m in \u001b[0;36m<module>\u001b[0;34m\u001b[0m\n\u001b[0;32m----> 1\u001b[0;31m \u001b[0mprint\u001b[0m\u001b[0;34m(\u001b[0m\u001b[0mData\u001b[0m\u001b[0;34m[\u001b[0m\u001b[0;34m\"poster_path\"\u001b[0m\u001b[0;34m]\u001b[0m\u001b[0;34m)\u001b[0m\u001b[0;34m\u001b[0m\u001b[0;34m\u001b[0m\u001b[0m\n\u001b[0m",
      "\u001b[0;31mKeyError\u001b[0m: 'poster_path'"
     ]
    }
   ],
   "source": [
    "print(Data[\"poster_path\"])"
   ]
  }
 ],
 "metadata": {
  "kernelspec": {
   "display_name": "Python 3 (ipykernel)",
   "language": "python",
   "name": "python3"
  },
  "language_info": {
   "codemirror_mode": {
    "name": "ipython",
    "version": 3
   },
   "file_extension": ".py",
   "mimetype": "text/x-python",
   "name": "python",
   "nbconvert_exporter": "python",
   "pygments_lexer": "ipython3",
   "version": "3.8.10"
  }
 },
 "nbformat": 4,
 "nbformat_minor": 5
}
