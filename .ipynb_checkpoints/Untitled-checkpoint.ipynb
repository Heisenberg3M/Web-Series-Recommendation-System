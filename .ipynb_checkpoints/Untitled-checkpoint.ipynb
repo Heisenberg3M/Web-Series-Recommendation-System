{
 "cells": [
  {
   "cell_type": "code",
   "execution_count": null,
   "id": "cc78588f",
   "metadata": {},
   "outputs": [],
   "source": [
    "import urllib.request\n",
    "s=input()\n",
    "s=print(s.replace(\" \",\"+\"))\n",
    "z=str(s)\n",
    "WebUrl=urllib.request.urlopen('https://api.themoviedb.org/3/search/tv?api_key=3122717ed8290a2d358df8985cc89216&query='+ z)\n",
    "print(\"result code: \" + str(WebUrl.getcode()))\n",
    "data = WebUrl.read()\n",
    "type(data)\n",
    "print(data)"
   ]
  }
 ],
 "metadata": {
  "kernelspec": {
   "display_name": "Python 3 (ipykernel)",
   "language": "python",
   "name": "python3"
  },
  "language_info": {
   "codemirror_mode": {
    "name": "ipython",
    "version": 3
   },
   "file_extension": ".py",
   "mimetype": "text/x-python",
   "name": "python",
   "nbconvert_exporter": "python",
   "pygments_lexer": "ipython3",
   "version": "3.8.10"
  }
 },
 "nbformat": 4,
 "nbformat_minor": 5
}
