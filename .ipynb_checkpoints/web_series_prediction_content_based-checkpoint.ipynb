{
 "cells": [
  {
   "cell_type": "code",
   "execution_count": 3,
   "metadata": {},
   "outputs": [],
   "source": [
    "# Content-based\n",
    "import numpy as np \n",
    "import pandas as pd\n",
    "from sklearn.feature_extraction.text import CountVectorizer\n",
    "from sklearn.metrics.pairwise import cosine_similarity"
   ]
  },
  {
   "cell_type": "code",
   "execution_count": 68,
   "metadata": {},
   "outputs": [
    {
     "data": {
      "text/html": [
       "<div>\n",
       "<style scoped>\n",
       "    .dataframe tbody tr th:only-of-type {\n",
       "        vertical-align: middle;\n",
       "    }\n",
       "\n",
       "    .dataframe tbody tr th {\n",
       "        vertical-align: top;\n",
       "    }\n",
       "\n",
       "    .dataframe thead th {\n",
       "        text-align: right;\n",
       "    }\n",
       "</style>\n",
       "<table border=\"1\" class=\"dataframe\">\n",
       "  <thead>\n",
       "    <tr style=\"text-align: right;\">\n",
       "      <th></th>\n",
       "      <th>index</th>\n",
       "      <th>title</th>\n",
       "      <th>Year Released</th>\n",
       "      <th>Content Rating</th>\n",
       "      <th>IMDB Rating</th>\n",
       "      <th>R Rating</th>\n",
       "      <th>Genre</th>\n",
       "      <th>Description</th>\n",
       "      <th>No of Seasons</th>\n",
       "      <th>Streaming Platform</th>\n",
       "    </tr>\n",
       "  </thead>\n",
       "  <tbody>\n",
       "    <tr>\n",
       "      <th>0</th>\n",
       "      <td>0</td>\n",
       "      <td>Breaking Bad</td>\n",
       "      <td>2008</td>\n",
       "      <td>18+</td>\n",
       "      <td>9.5</td>\n",
       "      <td>100</td>\n",
       "      <td>Crime,Drama</td>\n",
       "      <td>When Walter White, a New Mexico chemistry teac...</td>\n",
       "      <td>5Seasons</td>\n",
       "      <td>Netflix</td>\n",
       "    </tr>\n",
       "    <tr>\n",
       "      <th>1</th>\n",
       "      <td>1</td>\n",
       "      <td>Game of Thrones</td>\n",
       "      <td>2011</td>\n",
       "      <td>18+</td>\n",
       "      <td>9.3</td>\n",
       "      <td>99</td>\n",
       "      <td>Action &amp; Adventure,Drama</td>\n",
       "      <td>Seven noble families fight for control of the ...</td>\n",
       "      <td>8Seasons</td>\n",
       "      <td>HBO MAX,HBO</td>\n",
       "    </tr>\n",
       "    <tr>\n",
       "      <th>2</th>\n",
       "      <td>2</td>\n",
       "      <td>Rick and Morty</td>\n",
       "      <td>2013</td>\n",
       "      <td>18+</td>\n",
       "      <td>9.2</td>\n",
       "      <td>97</td>\n",
       "      <td>Animation,Comedy</td>\n",
       "      <td>Rick is a mentally-unbalanced but scientifical...</td>\n",
       "      <td>4Seasons</td>\n",
       "      <td>Free Services,HBO MAX,Hulu</td>\n",
       "    </tr>\n",
       "    <tr>\n",
       "      <th>3</th>\n",
       "      <td>3</td>\n",
       "      <td>Stranger Things</td>\n",
       "      <td>2016</td>\n",
       "      <td>16+</td>\n",
       "      <td>8.8</td>\n",
       "      <td>96</td>\n",
       "      <td>Drama,Fantasy</td>\n",
       "      <td>When a young boy vanishes, a small town uncove...</td>\n",
       "      <td>3Seasons</td>\n",
       "      <td>Netflix</td>\n",
       "    </tr>\n",
       "    <tr>\n",
       "      <th>4</th>\n",
       "      <td>4</td>\n",
       "      <td>The Boys</td>\n",
       "      <td>2019</td>\n",
       "      <td>18+</td>\n",
       "      <td>8.7</td>\n",
       "      <td>95</td>\n",
       "      <td>Action &amp; Adventure,Comedy</td>\n",
       "      <td>A group of vigilantes known informally as “The...</td>\n",
       "      <td>2Seasons</td>\n",
       "      <td>Prime Video</td>\n",
       "    </tr>\n",
       "    <tr>\n",
       "      <th>...</th>\n",
       "      <td>...</td>\n",
       "      <td>...</td>\n",
       "      <td>...</td>\n",
       "      <td>...</td>\n",
       "      <td>...</td>\n",
       "      <td>...</td>\n",
       "      <td>...</td>\n",
       "      <td>...</td>\n",
       "      <td>...</td>\n",
       "      <td>...</td>\n",
       "    </tr>\n",
       "    <tr>\n",
       "      <th>12348</th>\n",
       "      <td>12348</td>\n",
       "      <td>A Fishing Story with Ronnie Green</td>\n",
       "      <td>2017</td>\n",
       "      <td>NaN</td>\n",
       "      <td>NaN</td>\n",
       "      <td>-1</td>\n",
       "      <td>2017,Prime Video</td>\n",
       "      <td>A Fishing Story with Ronnie Green has one or m...</td>\n",
       "      <td>2Seasons</td>\n",
       "      <td>Prime Video,fuboTV</td>\n",
       "    </tr>\n",
       "    <tr>\n",
       "      <th>12349</th>\n",
       "      <td>12349</td>\n",
       "      <td>CMT Most Shocking</td>\n",
       "      <td>2003</td>\n",
       "      <td>NaN</td>\n",
       "      <td>NaN</td>\n",
       "      <td>-1</td>\n",
       "      <td>-1</td>\n",
       "      <td>-1</td>\n",
       "      <td>-1</td>\n",
       "      <td>-1</td>\n",
       "    </tr>\n",
       "    <tr>\n",
       "      <th>12350</th>\n",
       "      <td>12350</td>\n",
       "      <td>NHL Road to the Outdoor Classics</td>\n",
       "      <td>2016</td>\n",
       "      <td>NaN</td>\n",
       "      <td>NaN</td>\n",
       "      <td>-1</td>\n",
       "      <td>2016,Prime Video</td>\n",
       "      <td>Road to the NHL Outdoor Classics takes us deep...</td>\n",
       "      <td>1Season</td>\n",
       "      <td>Prime Video,Epix</td>\n",
       "    </tr>\n",
       "    <tr>\n",
       "      <th>12351</th>\n",
       "      <td>12351</td>\n",
       "      <td>Addy Media</td>\n",
       "      <td>2018</td>\n",
       "      <td>NaN</td>\n",
       "      <td>NaN</td>\n",
       "      <td>-1</td>\n",
       "      <td>2018,Prime Video</td>\n",
       "      <td>Addy Media has one or more episodes streaming ...</td>\n",
       "      <td>1Season</td>\n",
       "      <td>Prime Video</td>\n",
       "    </tr>\n",
       "    <tr>\n",
       "      <th>12352</th>\n",
       "      <td>12352</td>\n",
       "      <td>My Dream Derelict Home</td>\n",
       "      <td>2014</td>\n",
       "      <td>NaN</td>\n",
       "      <td>NaN</td>\n",
       "      <td>-1</td>\n",
       "      <td>2014,Free Services</td>\n",
       "      <td>My Dream Derelict Home has one or more episode...</td>\n",
       "      <td>1Season</td>\n",
       "      <td>Free Services,Prime Video</td>\n",
       "    </tr>\n",
       "  </tbody>\n",
       "</table>\n",
       "<p>12353 rows × 10 columns</p>\n",
       "</div>"
      ],
      "text/plain": [
       "       index                              title  Year Released Content Rating  \\\n",
       "0          0                       Breaking Bad           2008            18+   \n",
       "1          1                    Game of Thrones           2011            18+   \n",
       "2          2                     Rick and Morty           2013            18+   \n",
       "3          3                    Stranger Things           2016            16+   \n",
       "4          4                           The Boys           2019            18+   \n",
       "...      ...                                ...            ...            ...   \n",
       "12348  12348  A Fishing Story with Ronnie Green           2017            NaN   \n",
       "12349  12349                  CMT Most Shocking           2003            NaN   \n",
       "12350  12350   NHL Road to the Outdoor Classics           2016            NaN   \n",
       "12351  12351                         Addy Media           2018            NaN   \n",
       "12352  12352             My Dream Derelict Home           2014            NaN   \n",
       "\n",
       "       IMDB Rating  R Rating                      Genre  \\\n",
       "0              9.5       100                Crime,Drama   \n",
       "1              9.3        99   Action & Adventure,Drama   \n",
       "2              9.2        97           Animation,Comedy   \n",
       "3              8.8        96              Drama,Fantasy   \n",
       "4              8.7        95  Action & Adventure,Comedy   \n",
       "...            ...       ...                        ...   \n",
       "12348          NaN        -1           2017,Prime Video   \n",
       "12349          NaN        -1                         -1   \n",
       "12350          NaN        -1           2016,Prime Video   \n",
       "12351          NaN        -1           2018,Prime Video   \n",
       "12352          NaN        -1         2014,Free Services   \n",
       "\n",
       "                                             Description No of Seasons  \\\n",
       "0      When Walter White, a New Mexico chemistry teac...      5Seasons   \n",
       "1      Seven noble families fight for control of the ...      8Seasons   \n",
       "2      Rick is a mentally-unbalanced but scientifical...      4Seasons   \n",
       "3      When a young boy vanishes, a small town uncove...      3Seasons   \n",
       "4      A group of vigilantes known informally as “The...      2Seasons   \n",
       "...                                                  ...           ...   \n",
       "12348  A Fishing Story with Ronnie Green has one or m...      2Seasons   \n",
       "12349                                                 -1            -1   \n",
       "12350  Road to the NHL Outdoor Classics takes us deep...       1Season   \n",
       "12351  Addy Media has one or more episodes streaming ...       1Season   \n",
       "12352  My Dream Derelict Home has one or more episode...       1Season   \n",
       "\n",
       "               Streaming Platform  \n",
       "0                         Netflix  \n",
       "1                     HBO MAX,HBO  \n",
       "2      Free Services,HBO MAX,Hulu  \n",
       "3                         Netflix  \n",
       "4                     Prime Video  \n",
       "...                           ...  \n",
       "12348          Prime Video,fuboTV  \n",
       "12349                          -1  \n",
       "12350            Prime Video,Epix  \n",
       "12351                 Prime Video  \n",
       "12352   Free Services,Prime Video  \n",
       "\n",
       "[12353 rows x 10 columns]"
      ]
     },
     "execution_count": 68,
     "metadata": {},
     "output_type": "execute_result"
    }
   ],
   "source": [
    "###### helper functions. Use them when needed #######\n",
    "def get_title_from_index(index):\n",
    "\treturn df[df.index == index][\"title\"].values[0]\n",
    "\n",
    "def get_index_from_title(title):\n",
    "\treturn df[df.title == title][\"index\"].values[0]\n",
    "##################################################\n",
    "\n",
    "# Step 1: Read CSV File\n",
    "df = pd.read_csv(\"tv_shows_dataset.csv\")\n",
    "# print(df.columns)\n",
    "df"
   ]
  },
  {
   "cell_type": "code",
   "execution_count": 43,
   "metadata": {},
   "outputs": [
    {
     "name": "stdout",
     "output_type": "stream",
     "text": [
      "Index(['index', 'Series Title', 'Year Released', 'Content Rating',\n",
      "       'IMDB Rating', 'R Rating', 'Genre', 'Description', 'No of Seasons',\n",
      "       'Streaming Platform'],\n",
      "      dtype='object')\n"
     ]
    }
   ],
   "source": [
    "print(df.columns)"
   ]
  },
  {
   "cell_type": "code",
   "execution_count": 35,
   "metadata": {},
   "outputs": [
    {
     "data": {
      "text/plain": [
       "['Genre']"
      ]
     },
     "execution_count": 35,
     "metadata": {},
     "output_type": "execute_result"
    }
   ],
   "source": [
    "# Step 2: Select Features\n",
    "features = ['Genre']\n",
    "features"
   ]
  },
  {
   "cell_type": "code",
   "execution_count": 32,
   "metadata": {},
   "outputs": [
    {
     "data": {
      "text/plain": [
       "index                    0\n",
       "Series Title             0\n",
       "Year Released            0\n",
       "Content Rating        5121\n",
       "IMDB Rating           2146\n",
       "R Rating                 0\n",
       "Genre                    0\n",
       "Description              0\n",
       "No of Seasons            0\n",
       "Streaming Platform    1983\n",
       "dtype: int64"
      ]
     },
     "execution_count": 32,
     "metadata": {},
     "output_type": "execute_result"
    }
   ],
   "source": [
    "# df.isnull().sum()"
   ]
  },
  {
   "cell_type": "code",
   "execution_count": 36,
   "metadata": {},
   "outputs": [],
   "source": [
    "for feature in features:\n",
    "\tdf[feature] = df[feature].fillna('')"
   ]
  },
  {
   "cell_type": "code",
   "execution_count": 39,
   "metadata": {},
   "outputs": [
    {
     "name": "stdout",
     "output_type": "stream",
     "text": [
      "Combined Features:\n",
      " 0                  Crime,Drama\n",
      "1     Action & Adventure,Drama\n",
      "2             Animation,Comedy\n",
      "3                Drama,Fantasy\n",
      "4    Action & Adventure,Comedy\n",
      "Name: combined_features, dtype: object\n"
     ]
    }
   ],
   "source": [
    "# Step 3: Create a column in DF which combines all selected features\n",
    "def combine_features(row):\n",
    "    try:\n",
    "        return row['Genre']\n",
    "    except:\n",
    "        print(\"Error: \", row)\n",
    "\n",
    "df[\"combined_features\"] = df.apply(combine_features,axis=1)\n",
    "print(\"Combined Features:\\n\", df[\"combined_features\"].head())"
   ]
  },
  {
   "cell_type": "code",
   "execution_count": 40,
   "metadata": {},
   "outputs": [
    {
     "name": "stdout",
     "output_type": "stream",
     "text": [
      "  (0, 98)\t1\n",
      "  (0, 104)\t1\n",
      "  (1, 104)\t1\n",
      "  (1, 81)\t1\n",
      "  (1, 82)\t1\n",
      "  (2, 85)\t1\n",
      "  (2, 97)\t1\n",
      "  (3, 104)\t1\n",
      "  (3, 106)\t1\n",
      "  (4, 81)\t1\n",
      "  (4, 82)\t1\n",
      "  (4, 97)\t1\n",
      "  (5, 98)\t1\n",
      "  (5, 104)\t1\n",
      "  (6, 104)\t1\n",
      "  (6, 118)\t1\n",
      "  (7, 98)\t1\n",
      "  (7, 81)\t1\n",
      "  (7, 82)\t1\n",
      "  (8, 98)\t1\n",
      "  (8, 104)\t1\n",
      "  (9, 81)\t1\n",
      "  (9, 82)\t1\n",
      "  (9, 85)\t1\n",
      "  (10, 97)\t1\n",
      "  :\t:\n",
      "  (12339, 133)\t1\n",
      "  (12339, 152)\t1\n",
      "  (12341, 74)\t1\n",
      "  (12341, 133)\t1\n",
      "  (12341, 152)\t1\n",
      "  (12342, 67)\t1\n",
      "  (12342, 110)\t1\n",
      "  (12342, 137)\t1\n",
      "  (12343, 75)\t1\n",
      "  (12343, 133)\t1\n",
      "  (12343, 152)\t1\n",
      "  (12344, 75)\t1\n",
      "  (12344, 122)\t1\n",
      "  (12348, 75)\t1\n",
      "  (12348, 133)\t1\n",
      "  (12348, 152)\t1\n",
      "  (12350, 74)\t1\n",
      "  (12350, 133)\t1\n",
      "  (12350, 152)\t1\n",
      "  (12351, 76)\t1\n",
      "  (12351, 133)\t1\n",
      "  (12351, 152)\t1\n",
      "  (12352, 72)\t1\n",
      "  (12352, 110)\t1\n",
      "  (12352, 137)\t1\n"
     ]
    }
   ],
   "source": [
    "# Step 4: Create count matrix from this new combined column\n",
    "cv = CountVectorizer()\n",
    "count_matrix = cv.fit_transform(df[\"combined_features\"])\n",
    "print(count_matrix)"
   ]
  },
  {
   "cell_type": "code",
   "execution_count": 41,
   "metadata": {},
   "outputs": [
    {
     "name": "stdout",
     "output_type": "stream",
     "text": [
      "[[1.         0.40824829 0.         ... 0.         0.         0.        ]\n",
      " [0.40824829 1.         0.         ... 0.         0.         0.        ]\n",
      " [0.         0.         1.         ... 0.         0.         0.        ]\n",
      " ...\n",
      " [0.         0.         0.         ... 1.         0.66666667 0.        ]\n",
      " [0.         0.         0.         ... 0.66666667 1.         0.        ]\n",
      " [0.         0.         0.         ... 0.         0.         1.        ]]\n"
     ]
    }
   ],
   "source": [
    "# Step 5: Compute the Cosine Similarity based on the count_matrix \n",
    "# gives similarity scores\n",
    "cosine_sim = cosine_similarity(count_matrix)\n",
    "print(cosine_sim)"
   ]
  },
  {
   "cell_type": "code",
   "execution_count": 65,
   "metadata": {},
   "outputs": [],
   "source": [
    "# i want to list the tv shows in descending order of their similarity scores\n",
    "# 1.00 to 0.00\n",
    "# we want convert list of elements into a list of ttuples\n",
    "tvshow_user_likes = \"Breaking Bad\"\n",
    "shows_index = get_index_from_title(tvshow_user_likes)\n",
    "similar_shows = list(enumerate(cosine_sim[shows_index]))"
   ]
  },
  {
   "cell_type": "code",
   "execution_count": 66,
   "metadata": {},
   "outputs": [],
   "source": [
    "# Step 7: Get a list of similar movies in descending order of similarity score\n",
    "sorted_similar_shows = sorted(similar_shows, key=lambda x:x[1], reverse=True)[0:10]"
   ]
  },
  {
   "cell_type": "code",
   "execution_count": 67,
   "metadata": {},
   "outputs": [
    {
     "name": "stdout",
     "output_type": "stream",
     "text": [
      "People who watched Breaking Bad also liked:\n",
      "\n",
      "Breaking Bad\n",
      "Dark\n",
      "Fargo\n",
      "The Wire\n",
      "Peaky Blinders\n",
      "The Sopranos\n",
      "Mindhunter\n",
      "Dexter\n",
      "Narcos\n",
      "True Detective\n"
     ]
    }
   ],
   "source": [
    "# Step 8: Print titles of first 50 shows based on similarity score via genres\n",
    "i = 0\n",
    "print(\"People who watched \"+tvshow_user_likes+\" also liked:\\n\")\n",
    "for element in sorted_similar_shows:\n",
    "    print(get_title_from_index(element[0]))\n",
    "    i = i + 1\n",
    "    if i > 10:\n",
    "        break"
   ]
  },
  {
   "cell_type": "markdown",
   "metadata": {},
   "source": [
    "by IMDB"
   ]
  },
  {
   "cell_type": "code",
   "execution_count": 69,
   "metadata": {},
   "outputs": [
    {
     "data": {
      "text/plain": [
       "array([9.5, 9.3, 9.2, 8.8, 8.7, 9.4, 9.1, 8.9, 8.4, 8.2, 8.5, 8. , 8.3,\n",
       "       8.6, 9. , 8.1, 7.7, 7.6, 7.5, 7.9, 7.8, 7.4, 7.3, 7. , 6.8, 7.1,\n",
       "       7.2, 6.4, 6.9, 6.3, 6.7, 6.6, 6.5, 5.8, 6.1, 5.5, 5.3, 6.2, 6. ,\n",
       "       nan, 9.7, 5.7, 4.9, 5.4, 5.6, 3.6, 5.1, 5.9, 5. , 5.2, 4.6, 4.5,\n",
       "       4.2, 2.5, 4.1, 4.3, 2.8, 4.8, 3.5, 3.4, 4. , 4.4, 3.2, 4.7, 3.1,\n",
       "       3.8, 3.3, 2.6, 3.7, 2.9, 3.9, 3. , 1.6, 2. , 2.3, 1.8, 2.1, 2.4,\n",
       "       1.7, 2.7, 1. , 2.2, 1.3, 1.9, 1.2])"
      ]
     },
     "execution_count": 69,
     "metadata": {},
     "output_type": "execute_result"
    }
   ],
   "source": [
    "df[\"IMDB Rating\"].unique()"
   ]
  },
  {
   "cell_type": "code",
   "execution_count": 70,
   "metadata": {},
   "outputs": [
    {
     "name": "stdout",
     "output_type": "stream",
     "text": [
      "[(0, 0.9999999999999998), (13, 0.9999999999999998), (26, 0.9999999999999998), (37, 0.9999999999999998), (8, 0.9999999999999998), (5, 0.9999999999999998), (22, 0.9999999999999998), (35, 0.9999999999999998), (33, 0.9999999999999998), (34, 0.9999999999999998)]\n"
     ]
    }
   ],
   "source": [
    "# step 7 repeated but this time with 'sorted_similar_shows' = genre and IMDB\n",
    "sort_by_IMDB = sorted(sorted_similar_shows,key=lambda x:df[\"IMDB Rating\"][x[0]],reverse=True)\n",
    "print(sort_by_IMDB)"
   ]
  },
  {
   "cell_type": "code",
   "execution_count": 73,
   "metadata": {},
   "outputs": [
    {
     "name": "stdout",
     "output_type": "stream",
     "text": [
      "Suggesting top 5 movies in order of genres and IMDB rating:\n",
      "\n",
      "Breaking Bad\n",
      "The Wire\n",
      "The Sopranos\n",
      "True Detective\n",
      "Fargo\n",
      "Dark\n",
      "Peaky Blinders\n",
      "Narcos\n",
      "Mindhunter\n",
      "Dexter\n"
     ]
    }
   ],
   "source": [
    "# Step 8: Print titles of first n shows based on similarity score via genres\n",
    "# and again by IMDB\n",
    "i=0\n",
    "print(\"Suggesting top 5 TV Shows in order of Genres and IMDB rating:\\n\")\n",
    "for element in sort_by_IMDB:\n",
    "    print(get_title_from_index(element[0]))\n",
    "    i=i+1\n",
    "    if i>10:\n",
    "        break\n",
    "\n"
   ]
  }
 ],
 "metadata": {
  "kernelspec": {
   "display_name": "Python 3 (ipykernel)",
   "language": "python",
   "name": "python3"
  },
  "language_info": {
   "codemirror_mode": {
    "name": "ipython",
    "version": 3
   },
   "file_extension": ".py",
   "mimetype": "text/x-python",
   "name": "python",
   "nbconvert_exporter": "python",
   "pygments_lexer": "ipython3",
   "version": "3.8.10"
  }
 },
 "nbformat": 4,
 "nbformat_minor": 4
}
